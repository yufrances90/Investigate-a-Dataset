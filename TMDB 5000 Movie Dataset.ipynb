{
 "cells": [
  {
   "cell_type": "markdown",
   "metadata": {},
   "source": [
    "## Import Modules"
   ]
  },
  {
   "cell_type": "code",
   "execution_count": 1,
   "metadata": {},
   "outputs": [],
   "source": [
    "import pandas as pd\n",
    "import numpy as np\n",
    "import os\n",
    "import matplotlib.pyplot as plt\n",
    "import matplotlib as mpl\n",
    "\n",
    "%matplotlib inline\n",
    "\n",
    "import utils.helper as helper"
   ]
  },
  {
   "cell_type": "markdown",
   "metadata": {},
   "source": [
    "---\n",
    "## Data Wrangling"
   ]
  },
  {
   "cell_type": "code",
   "execution_count": 2,
   "metadata": {},
   "outputs": [],
   "source": [
    "data_filepath = os.path.join('./data', 'tmdb-movies.csv')\n",
    "\n",
    "df = pd.read_csv(data_filepath)"
   ]
  },
  {
   "cell_type": "code",
   "execution_count": 3,
   "metadata": {},
   "outputs": [
    {
     "data": {
      "text/html": [
       "<div>\n",
       "<style scoped>\n",
       "    .dataframe tbody tr th:only-of-type {\n",
       "        vertical-align: middle;\n",
       "    }\n",
       "\n",
       "    .dataframe tbody tr th {\n",
       "        vertical-align: top;\n",
       "    }\n",
       "\n",
       "    .dataframe thead th {\n",
       "        text-align: right;\n",
       "    }\n",
       "</style>\n",
       "<table border=\"1\" class=\"dataframe\">\n",
       "  <thead>\n",
       "    <tr style=\"text-align: right;\">\n",
       "      <th></th>\n",
       "      <th>id</th>\n",
       "      <th>imdb_id</th>\n",
       "      <th>popularity</th>\n",
       "      <th>budget</th>\n",
       "      <th>revenue</th>\n",
       "      <th>original_title</th>\n",
       "      <th>cast</th>\n",
       "      <th>homepage</th>\n",
       "      <th>director</th>\n",
       "      <th>tagline</th>\n",
       "      <th>...</th>\n",
       "      <th>overview</th>\n",
       "      <th>runtime</th>\n",
       "      <th>genres</th>\n",
       "      <th>production_companies</th>\n",
       "      <th>release_date</th>\n",
       "      <th>vote_count</th>\n",
       "      <th>vote_average</th>\n",
       "      <th>release_year</th>\n",
       "      <th>budget_adj</th>\n",
       "      <th>revenue_adj</th>\n",
       "    </tr>\n",
       "  </thead>\n",
       "  <tbody>\n",
       "    <tr>\n",
       "      <th>0</th>\n",
       "      <td>135397</td>\n",
       "      <td>tt0369610</td>\n",
       "      <td>32.985763</td>\n",
       "      <td>150000000</td>\n",
       "      <td>1513528810</td>\n",
       "      <td>Jurassic World</td>\n",
       "      <td>Chris Pratt|Bryce Dallas Howard|Irrfan Khan|Vi...</td>\n",
       "      <td>http://www.jurassicworld.com/</td>\n",
       "      <td>Colin Trevorrow</td>\n",
       "      <td>The park is open.</td>\n",
       "      <td>...</td>\n",
       "      <td>Twenty-two years after the events of Jurassic ...</td>\n",
       "      <td>124</td>\n",
       "      <td>Action|Adventure|Science Fiction|Thriller</td>\n",
       "      <td>Universal Studios|Amblin Entertainment|Legenda...</td>\n",
       "      <td>6/9/15</td>\n",
       "      <td>5562</td>\n",
       "      <td>6.5</td>\n",
       "      <td>2015</td>\n",
       "      <td>1.379999e+08</td>\n",
       "      <td>1.392446e+09</td>\n",
       "    </tr>\n",
       "    <tr>\n",
       "      <th>1</th>\n",
       "      <td>76341</td>\n",
       "      <td>tt1392190</td>\n",
       "      <td>28.419936</td>\n",
       "      <td>150000000</td>\n",
       "      <td>378436354</td>\n",
       "      <td>Mad Max: Fury Road</td>\n",
       "      <td>Tom Hardy|Charlize Theron|Hugh Keays-Byrne|Nic...</td>\n",
       "      <td>http://www.madmaxmovie.com/</td>\n",
       "      <td>George Miller</td>\n",
       "      <td>What a Lovely Day.</td>\n",
       "      <td>...</td>\n",
       "      <td>An apocalyptic story set in the furthest reach...</td>\n",
       "      <td>120</td>\n",
       "      <td>Action|Adventure|Science Fiction|Thriller</td>\n",
       "      <td>Village Roadshow Pictures|Kennedy Miller Produ...</td>\n",
       "      <td>5/13/15</td>\n",
       "      <td>6185</td>\n",
       "      <td>7.1</td>\n",
       "      <td>2015</td>\n",
       "      <td>1.379999e+08</td>\n",
       "      <td>3.481613e+08</td>\n",
       "    </tr>\n",
       "    <tr>\n",
       "      <th>2</th>\n",
       "      <td>262500</td>\n",
       "      <td>tt2908446</td>\n",
       "      <td>13.112507</td>\n",
       "      <td>110000000</td>\n",
       "      <td>295238201</td>\n",
       "      <td>Insurgent</td>\n",
       "      <td>Shailene Woodley|Theo James|Kate Winslet|Ansel...</td>\n",
       "      <td>http://www.thedivergentseries.movie/#insurgent</td>\n",
       "      <td>Robert Schwentke</td>\n",
       "      <td>One Choice Can Destroy You</td>\n",
       "      <td>...</td>\n",
       "      <td>Beatrice Prior must confront her inner demons ...</td>\n",
       "      <td>119</td>\n",
       "      <td>Adventure|Science Fiction|Thriller</td>\n",
       "      <td>Summit Entertainment|Mandeville Films|Red Wago...</td>\n",
       "      <td>3/18/15</td>\n",
       "      <td>2480</td>\n",
       "      <td>6.3</td>\n",
       "      <td>2015</td>\n",
       "      <td>1.012000e+08</td>\n",
       "      <td>2.716190e+08</td>\n",
       "    </tr>\n",
       "    <tr>\n",
       "      <th>3</th>\n",
       "      <td>140607</td>\n",
       "      <td>tt2488496</td>\n",
       "      <td>11.173104</td>\n",
       "      <td>200000000</td>\n",
       "      <td>2068178225</td>\n",
       "      <td>Star Wars: The Force Awakens</td>\n",
       "      <td>Harrison Ford|Mark Hamill|Carrie Fisher|Adam D...</td>\n",
       "      <td>http://www.starwars.com/films/star-wars-episod...</td>\n",
       "      <td>J.J. Abrams</td>\n",
       "      <td>Every generation has a story.</td>\n",
       "      <td>...</td>\n",
       "      <td>Thirty years after defeating the Galactic Empi...</td>\n",
       "      <td>136</td>\n",
       "      <td>Action|Adventure|Science Fiction|Fantasy</td>\n",
       "      <td>Lucasfilm|Truenorth Productions|Bad Robot</td>\n",
       "      <td>12/15/15</td>\n",
       "      <td>5292</td>\n",
       "      <td>7.5</td>\n",
       "      <td>2015</td>\n",
       "      <td>1.839999e+08</td>\n",
       "      <td>1.902723e+09</td>\n",
       "    </tr>\n",
       "    <tr>\n",
       "      <th>4</th>\n",
       "      <td>168259</td>\n",
       "      <td>tt2820852</td>\n",
       "      <td>9.335014</td>\n",
       "      <td>190000000</td>\n",
       "      <td>1506249360</td>\n",
       "      <td>Furious 7</td>\n",
       "      <td>Vin Diesel|Paul Walker|Jason Statham|Michelle ...</td>\n",
       "      <td>http://www.furious7.com/</td>\n",
       "      <td>James Wan</td>\n",
       "      <td>Vengeance Hits Home</td>\n",
       "      <td>...</td>\n",
       "      <td>Deckard Shaw seeks revenge against Dominic Tor...</td>\n",
       "      <td>137</td>\n",
       "      <td>Action|Crime|Thriller</td>\n",
       "      <td>Universal Pictures|Original Film|Media Rights ...</td>\n",
       "      <td>4/1/15</td>\n",
       "      <td>2947</td>\n",
       "      <td>7.3</td>\n",
       "      <td>2015</td>\n",
       "      <td>1.747999e+08</td>\n",
       "      <td>1.385749e+09</td>\n",
       "    </tr>\n",
       "  </tbody>\n",
       "</table>\n",
       "<p>5 rows × 21 columns</p>\n",
       "</div>"
      ],
      "text/plain": [
       "       id    imdb_id  popularity     budget     revenue  \\\n",
       "0  135397  tt0369610   32.985763  150000000  1513528810   \n",
       "1   76341  tt1392190   28.419936  150000000   378436354   \n",
       "2  262500  tt2908446   13.112507  110000000   295238201   \n",
       "3  140607  tt2488496   11.173104  200000000  2068178225   \n",
       "4  168259  tt2820852    9.335014  190000000  1506249360   \n",
       "\n",
       "                 original_title  \\\n",
       "0                Jurassic World   \n",
       "1            Mad Max: Fury Road   \n",
       "2                     Insurgent   \n",
       "3  Star Wars: The Force Awakens   \n",
       "4                     Furious 7   \n",
       "\n",
       "                                                cast  \\\n",
       "0  Chris Pratt|Bryce Dallas Howard|Irrfan Khan|Vi...   \n",
       "1  Tom Hardy|Charlize Theron|Hugh Keays-Byrne|Nic...   \n",
       "2  Shailene Woodley|Theo James|Kate Winslet|Ansel...   \n",
       "3  Harrison Ford|Mark Hamill|Carrie Fisher|Adam D...   \n",
       "4  Vin Diesel|Paul Walker|Jason Statham|Michelle ...   \n",
       "\n",
       "                                            homepage          director  \\\n",
       "0                      http://www.jurassicworld.com/   Colin Trevorrow   \n",
       "1                        http://www.madmaxmovie.com/     George Miller   \n",
       "2     http://www.thedivergentseries.movie/#insurgent  Robert Schwentke   \n",
       "3  http://www.starwars.com/films/star-wars-episod...       J.J. Abrams   \n",
       "4                           http://www.furious7.com/         James Wan   \n",
       "\n",
       "                         tagline  ...  \\\n",
       "0              The park is open.  ...   \n",
       "1             What a Lovely Day.  ...   \n",
       "2     One Choice Can Destroy You  ...   \n",
       "3  Every generation has a story.  ...   \n",
       "4            Vengeance Hits Home  ...   \n",
       "\n",
       "                                            overview runtime  \\\n",
       "0  Twenty-two years after the events of Jurassic ...     124   \n",
       "1  An apocalyptic story set in the furthest reach...     120   \n",
       "2  Beatrice Prior must confront her inner demons ...     119   \n",
       "3  Thirty years after defeating the Galactic Empi...     136   \n",
       "4  Deckard Shaw seeks revenge against Dominic Tor...     137   \n",
       "\n",
       "                                      genres  \\\n",
       "0  Action|Adventure|Science Fiction|Thriller   \n",
       "1  Action|Adventure|Science Fiction|Thriller   \n",
       "2         Adventure|Science Fiction|Thriller   \n",
       "3   Action|Adventure|Science Fiction|Fantasy   \n",
       "4                      Action|Crime|Thriller   \n",
       "\n",
       "                                production_companies release_date vote_count  \\\n",
       "0  Universal Studios|Amblin Entertainment|Legenda...       6/9/15       5562   \n",
       "1  Village Roadshow Pictures|Kennedy Miller Produ...      5/13/15       6185   \n",
       "2  Summit Entertainment|Mandeville Films|Red Wago...      3/18/15       2480   \n",
       "3          Lucasfilm|Truenorth Productions|Bad Robot     12/15/15       5292   \n",
       "4  Universal Pictures|Original Film|Media Rights ...       4/1/15       2947   \n",
       "\n",
       "   vote_average  release_year    budget_adj   revenue_adj  \n",
       "0           6.5          2015  1.379999e+08  1.392446e+09  \n",
       "1           7.1          2015  1.379999e+08  3.481613e+08  \n",
       "2           6.3          2015  1.012000e+08  2.716190e+08  \n",
       "3           7.5          2015  1.839999e+08  1.902723e+09  \n",
       "4           7.3          2015  1.747999e+08  1.385749e+09  \n",
       "\n",
       "[5 rows x 21 columns]"
      ]
     },
     "execution_count": 3,
     "metadata": {},
     "output_type": "execute_result"
    }
   ],
   "source": [
    "df.head()"
   ]
  },
  {
   "cell_type": "code",
   "execution_count": 4,
   "metadata": {},
   "outputs": [
    {
     "name": "stdout",
     "output_type": "stream",
     "text": [
      "<class 'pandas.core.frame.DataFrame'>\n",
      "RangeIndex: 10866 entries, 0 to 10865\n",
      "Data columns (total 21 columns):\n",
      " #   Column                Non-Null Count  Dtype  \n",
      "---  ------                --------------  -----  \n",
      " 0   id                    10866 non-null  int64  \n",
      " 1   imdb_id               10856 non-null  object \n",
      " 2   popularity            10866 non-null  float64\n",
      " 3   budget                10866 non-null  int64  \n",
      " 4   revenue               10866 non-null  int64  \n",
      " 5   original_title        10866 non-null  object \n",
      " 6   cast                  10790 non-null  object \n",
      " 7   homepage              2936 non-null   object \n",
      " 8   director              10822 non-null  object \n",
      " 9   tagline               8042 non-null   object \n",
      " 10  keywords              9373 non-null   object \n",
      " 11  overview              10862 non-null  object \n",
      " 12  runtime               10866 non-null  int64  \n",
      " 13  genres                10843 non-null  object \n",
      " 14  production_companies  9836 non-null   object \n",
      " 15  release_date          10866 non-null  object \n",
      " 16  vote_count            10866 non-null  int64  \n",
      " 17  vote_average          10866 non-null  float64\n",
      " 18  release_year          10866 non-null  int64  \n",
      " 19  budget_adj            10866 non-null  float64\n",
      " 20  revenue_adj           10866 non-null  float64\n",
      "dtypes: float64(4), int64(6), object(11)\n",
      "memory usage: 1.7+ MB\n"
     ]
    }
   ],
   "source": [
    "df.info()"
   ]
  },
  {
   "cell_type": "code",
   "execution_count": 5,
   "metadata": {},
   "outputs": [],
   "source": [
    "'''\n",
    "Remove all entries without id or imdb_id\n",
    "'''\n",
    "df.dropna(subset=['id', 'imdb_id'], inplace=True)"
   ]
  },
  {
   "cell_type": "code",
   "execution_count": 6,
   "metadata": {},
   "outputs": [],
   "source": [
    "'''\n",
    "Replace all null values with empty strings\n",
    "'''\n",
    "df[['genres', 'cast', 'director', 'tagline', 'keywords', 'production_companies', 'homepage', 'overview']] = \\\n",
    "    df[['genres', 'cast', 'director', 'tagline', 'keywords', 'production_companies', 'homepage', \\\n",
    "       'overview']].fillna(value='')"
   ]
  },
  {
   "cell_type": "code",
   "execution_count": 7,
   "metadata": {},
   "outputs": [
    {
     "name": "stdout",
     "output_type": "stream",
     "text": [
      "<class 'pandas.core.frame.DataFrame'>\n",
      "Int64Index: 10856 entries, 0 to 10865\n",
      "Data columns (total 21 columns):\n",
      " #   Column                Non-Null Count  Dtype  \n",
      "---  ------                --------------  -----  \n",
      " 0   id                    10856 non-null  int64  \n",
      " 1   imdb_id               10856 non-null  object \n",
      " 2   popularity            10856 non-null  float64\n",
      " 3   budget                10856 non-null  int64  \n",
      " 4   revenue               10856 non-null  int64  \n",
      " 5   original_title        10856 non-null  object \n",
      " 6   cast                  10856 non-null  object \n",
      " 7   homepage              10856 non-null  object \n",
      " 8   director              10856 non-null  object \n",
      " 9   tagline               10856 non-null  object \n",
      " 10  keywords              10856 non-null  object \n",
      " 11  overview              10856 non-null  object \n",
      " 12  runtime               10856 non-null  int64  \n",
      " 13  genres                10856 non-null  object \n",
      " 14  production_companies  10856 non-null  object \n",
      " 15  release_date          10856 non-null  object \n",
      " 16  vote_count            10856 non-null  int64  \n",
      " 17  vote_average          10856 non-null  float64\n",
      " 18  release_year          10856 non-null  int64  \n",
      " 19  budget_adj            10856 non-null  float64\n",
      " 20  revenue_adj           10856 non-null  float64\n",
      "dtypes: float64(4), int64(6), object(11)\n",
      "memory usage: 1.8+ MB\n"
     ]
    }
   ],
   "source": [
    "df.info()"
   ]
  },
  {
   "cell_type": "code",
   "execution_count": 8,
   "metadata": {
    "scrolled": true
   },
   "outputs": [],
   "source": [
    "'''\n",
    "Generate new pandas frame with only limited entries. In addition, uses one hot encoding for different genres\n",
    "'''\n",
    "\n",
    "new_df = df[['id', 'revenue', 'release_year', 'popularity']]\n",
    "\n",
    "new_df = pd.concat([new_df, df.genres.str.get_dummies(sep='|')],1)"
   ]
  },
  {
   "cell_type": "markdown",
   "metadata": {},
   "source": [
    "---\n",
    "## Question 1: What kinds of properties are associated with movies that have high revenues?"
   ]
  },
  {
   "cell_type": "code",
   "execution_count": 9,
   "metadata": {},
   "outputs": [
    {
     "data": {
      "text/plain": [
       "count    1.085600e+04\n",
       "mean     3.986000e+07\n",
       "std      1.170511e+08\n",
       "min      0.000000e+00\n",
       "25%      0.000000e+00\n",
       "50%      0.000000e+00\n",
       "75%      2.404690e+07\n",
       "max      2.781506e+09\n",
       "Name: revenue, dtype: float64"
      ]
     },
     "execution_count": 9,
     "metadata": {},
     "output_type": "execute_result"
    }
   ],
   "source": [
    "df['revenue'].describe()"
   ]
  },
  {
   "cell_type": "code",
   "execution_count": 10,
   "metadata": {},
   "outputs": [
    {
     "data": {
      "text/plain": [
       "Text(0, 0.5, 'Revenue')"
      ]
     },
     "execution_count": 10,
     "metadata": {},
     "output_type": "execute_result"
    },
    {
     "data": {
      "image/png": "[encoded data removed]",
      "text/plain": [
       "<Figure size 432x288 with 1 Axes>"
      ]
     },
     "metadata": {
      "needs_background": "light"
     },
     "output_type": "display_data"
    }
   ],
   "source": [
    "revenue_by_year = new_df.set_index(['release_year'])['revenue'].sum(level=[0]).sort_values()\n",
    "\n",
    "plt.plot(revenue_by_year.index, revenue_by_year)\n",
    "\n",
    "plt.title('Revenue by Release Year')\n",
    "plt.xlabel('Release Year')\n",
    "plt.ylabel('Revenue')"
   ]
  },
  {
   "cell_type": "markdown",
   "metadata": {},
   "source": [
    "#### Summary: \n",
    "There is a positive correlation between release year and revenue.\n",
    "\n",
    "---"
   ]
  },
  {
   "cell_type": "code",
   "execution_count": 11,
   "metadata": {},
   "outputs": [
    {
     "data": {
      "text/plain": [
       "Text(0, 0.5, 'Revenue')"
      ]
     },
     "execution_count": 11,
     "metadata": {},
     "output_type": "execute_result"
    },
    {
     "data": {
      "image/png": "[encoded data removed]",
      "text/plain": [
       "<Figure size 432x288 with 1 Axes>"
      ]
     },
     "metadata": {
      "needs_background": "light"
     },
     "output_type": "display_data"
    }
   ],
   "source": [
    "revenue_by_budget = df.set_index(['budget'])['revenue'].sum(level=[0]).sort_index()\n",
    "\n",
    "plt.plot(revenue_by_budget.index, revenue_by_budget)\n",
    "\n",
    "plt.title('Revenue by Budget')\n",
    "plt.xlabel('Budget')\n",
    "plt.ylabel('Revenue')"
   ]
  },
  {
   "cell_type": "markdown",
   "metadata": {},
   "source": [
    "#### Summary: \n",
    "* There is no correlation between budget and revenue\n",
    "* Highest revenue when budget = 2 * (e**10)\n",
    "\n",
    "---"
   ]
  },
  {
   "cell_type": "code",
   "execution_count": 12,
   "metadata": {},
   "outputs": [
    {
     "data": {
      "text/plain": [
       "[<matplotlib.lines.Line2D at 0x7f828ec20730>]"
      ]
     },
     "execution_count": 12,
     "metadata": {},
     "output_type": "execute_result"
    },
    {
     "data": {
      "image/png": "[encoded data removed]",
      "text/plain": [
       "<Figure size 432x288 with 1 Axes>"
      ]
     },
     "metadata": {
      "needs_background": "light"
     },
     "output_type": "display_data"
    }
   ],
   "source": [
    "revenue_by_budget_adj = df.set_index(['budget_adj'])['revenue'].sum(level=[0]).sort_index()\n",
    "\n",
    "plt.plot(revenue_by_budget_adj.index, revenue_by_budget_adj)"
   ]
  },
  {
   "cell_type": "markdown",
   "metadata": {},
   "source": [
    "#### Summary: \n",
    "There is no correlation between budget in terms of 2010 dollars and revenue.\n",
    "\n",
    "---"
   ]
  },
  {
   "cell_type": "code",
   "execution_count": 13,
   "metadata": {},
   "outputs": [
    {
     "data": {
      "text/plain": [
       "[<matplotlib.lines.Line2D at 0x7f8292904370>]"
      ]
     },
     "execution_count": 13,
     "metadata": {},
     "output_type": "execute_result"
    },
    {
     "data": {
      "image/png": "[encoded data removed]",
      "text/plain": [
       "<Figure size 432x288 with 1 Axes>"
      ]
     },
     "metadata": {
      "needs_background": "light"
     },
     "output_type": "display_data"
    }
   ],
   "source": [
    "revenue_by_revenue_adj = df.set_index(['revenue_adj'])['revenue'].sum(level=[0]).sort_index()\n",
    "\n",
    "plt.plot(revenue_by_revenue_adj.index, revenue_by_revenue_adj)"
   ]
  },
  {
   "cell_type": "markdown",
   "metadata": {},
   "source": [
    "#### Summary: \n",
    "There is no correlation between revenue in terms of 2010 dollars and revenue.\n",
    "\n",
    "---"
   ]
  },
  {
   "cell_type": "code",
   "execution_count": 14,
   "metadata": {},
   "outputs": [
    {
     "data": {
      "text/plain": [
       "Adventure\n",
       "1    166425793633\n",
       "0    266294399242\n",
       "Name: revenue, dtype: int64"
      ]
     },
     "execution_count": 14,
     "metadata": {},
     "output_type": "execute_result"
    }
   ],
   "source": [
    "revenue_by_adventure = new_df.set_index(['Adventure'])['revenue'].sum(level=[0]).sort_values()\n",
    "\n",
    "revenue_by_adventure"
   ]
  },
  {
   "cell_type": "code",
   "execution_count": 15,
   "metadata": {},
   "outputs": [
    {
     "data": {
      "text/plain": [
       "Action\n",
       "1    173543608094\n",
       "0    259176584781\n",
       "Name: revenue, dtype: int64"
      ]
     },
     "execution_count": 15,
     "metadata": {},
     "output_type": "execute_result"
    }
   ],
   "source": [
    "revenue_by_action = new_df.set_index(['Action'])['revenue'].sum(level=[0]).sort_values()\n",
    "\n",
    "revenue_by_action"
   ]
  },
  {
   "cell_type": "code",
   "execution_count": 16,
   "metadata": {},
   "outputs": [
    {
     "data": {
      "text/plain": [
       "Fantasy\n",
       "1     88223309887\n",
       "0    344496882988\n",
       "Name: revenue, dtype: int64"
      ]
     },
     "execution_count": 16,
     "metadata": {},
     "output_type": "execute_result"
    }
   ],
   "source": [
    "revenue_by_fantasy = new_df.set_index(['Fantasy'])['revenue'].sum(level=[0]).sort_values()\n",
    "\n",
    "revenue_by_fantasy"
   ]
  },
  {
   "cell_type": "code",
   "execution_count": 17,
   "metadata": {},
   "outputs": [
    {
     "data": {
      "text/plain": [
       "Family\n",
       "1     89165240116\n",
       "0    343554952759\n",
       "Name: revenue, dtype: int64"
      ]
     },
     "execution_count": 17,
     "metadata": {},
     "output_type": "execute_result"
    }
   ],
   "source": [
    "revenue_by_family = new_df.set_index(['Family'])['revenue'].sum(level=[0]).sort_values()\n",
    "\n",
    "revenue_by_family"
   ]
  },
  {
   "cell_type": "code",
   "execution_count": 18,
   "metadata": {},
   "outputs": [
    {
     "data": {
      "text/plain": [
       "Science Fiction\n",
       "1     86203712824\n",
       "0    346516480051\n",
       "Name: revenue, dtype: int64"
      ]
     },
     "execution_count": 18,
     "metadata": {},
     "output_type": "execute_result"
    }
   ],
   "source": [
    "revenue_by_sf = new_df.set_index(['Science Fiction'])['revenue'].sum(level=[0]).sort_values()\n",
    "\n",
    "revenue_by_sf"
   ]
  },
  {
   "cell_type": "code",
   "execution_count": 19,
   "metadata": {},
   "outputs": [
    {
     "data": {
      "text/plain": [
       "Animation\n",
       "1     52603987494\n",
       "0    380116205381\n",
       "Name: revenue, dtype: int64"
      ]
     },
     "execution_count": 19,
     "metadata": {},
     "output_type": "execute_result"
    }
   ],
   "source": [
    "revenue_by_animation = new_df.set_index(['Animation'])['revenue'].sum(level=[0]).sort_values()\n",
    "\n",
    "revenue_by_animation"
   ]
  },
  {
   "cell_type": "code",
   "execution_count": 20,
   "metadata": {},
   "outputs": [
    {
     "data": {
      "text/plain": [
       "War\n",
       "1     12853399491\n",
       "0    419866793384\n",
       "Name: revenue, dtype: int64"
      ]
     },
     "execution_count": 20,
     "metadata": {},
     "output_type": "execute_result"
    }
   ],
   "source": [
    "revenue_by_war = new_df.set_index(['War'])['revenue'].sum(level=[0]).sort_values()\n",
    "\n",
    "revenue_by_war"
   ]
  },
  {
   "cell_type": "code",
   "execution_count": 21,
   "metadata": {},
   "outputs": [
    {
     "data": {
      "text/plain": [
       "Thriller\n",
       "1    121305476800\n",
       "0    311414716075\n",
       "Name: revenue, dtype: int64"
      ]
     },
     "execution_count": 21,
     "metadata": {},
     "output_type": "execute_result"
    }
   ],
   "source": [
    "revenue_by_thriller = new_df.set_index(['Thriller'])['revenue'].sum(level=[0]).sort_values()\n",
    "\n",
    "revenue_by_thriller"
   ]
  },
  {
   "cell_type": "code",
   "execution_count": 22,
   "metadata": {},
   "outputs": [
    {
     "data": {
      "text/plain": [
       "Crime\n",
       "1     57368134868\n",
       "0    375352058007\n",
       "Name: revenue, dtype: int64"
      ]
     },
     "execution_count": 22,
     "metadata": {},
     "output_type": "execute_result"
    }
   ],
   "source": [
    "revenue_by_crime = new_df.set_index(['Crime'])['revenue'].sum(level=[0]).sort_values()\n",
    "\n",
    "revenue_by_crime"
   ]
  },
  {
   "cell_type": "code",
   "execution_count": 23,
   "metadata": {},
   "outputs": [
    {
     "data": {
      "text/plain": [
       "Mystery\n",
       "1     32576228996\n",
       "0    400143963879\n",
       "Name: revenue, dtype: int64"
      ]
     },
     "execution_count": 23,
     "metadata": {},
     "output_type": "execute_result"
    }
   ],
   "source": [
    "revenue_by_mystery = new_df.set_index(['Mystery'])['revenue'].sum(level=[0]).sort_values()\n",
    "\n",
    "revenue_by_mystery"
   ]
  },
  {
   "cell_type": "code",
   "execution_count": 24,
   "metadata": {},
   "outputs": [
    {
     "data": {
      "text/plain": [
       "History\n",
       "1     10691938934\n",
       "0    422028253941\n",
       "Name: revenue, dtype: int64"
      ]
     },
     "execution_count": 24,
     "metadata": {},
     "output_type": "execute_result"
    }
   ],
   "source": [
    "revenue_by_history = new_df.set_index(['History'])['revenue'].sum(level=[0]).sort_values()\n",
    "\n",
    "revenue_by_history"
   ]
  },
  {
   "cell_type": "code",
   "execution_count": 25,
   "metadata": {},
   "outputs": [
    {
     "data": {
      "text/plain": [
       "Western\n",
       "1      4713837032\n",
       "0    428006355843\n",
       "Name: revenue, dtype: int64"
      ]
     },
     "execution_count": 25,
     "metadata": {},
     "output_type": "execute_result"
    }
   ],
   "source": [
    "revenue_by_western = new_df.set_index(['Western'])['revenue'].sum(level=[0]).sort_values()\n",
    "\n",
    "revenue_by_western"
   ]
  },
  {
   "cell_type": "code",
   "execution_count": 26,
   "metadata": {},
   "outputs": [
    {
     "data": {
      "text/plain": [
       "Comedy\n",
       "1    142337036180\n",
       "0    290383156695\n",
       "Name: revenue, dtype: int64"
      ]
     },
     "execution_count": 26,
     "metadata": {},
     "output_type": "execute_result"
    }
   ],
   "source": [
    "revenue_by_comedy = new_df.set_index(['Comedy'])['revenue'].sum(level=[0]).sort_values()\n",
    "\n",
    "revenue_by_comedy"
   ]
  },
  {
   "cell_type": "code",
   "execution_count": 27,
   "metadata": {},
   "outputs": [
    {
     "data": {
      "text/plain": [
       "Romance\n",
       "1     61104656624\n",
       "0    371615536251\n",
       "Name: revenue, dtype: int64"
      ]
     },
     "execution_count": 27,
     "metadata": {},
     "output_type": "execute_result"
    }
   ],
   "source": [
    "revenue_by_romance = new_df.set_index(['Romance'])['revenue'].sum(level=[0]).sort_values()\n",
    "\n",
    "revenue_by_romance"
   ]
  },
  {
   "cell_type": "code",
   "execution_count": 28,
   "metadata": {},
   "outputs": [
    {
     "data": {
      "text/plain": [
       "Music\n",
       "1     11657281626\n",
       "0    421062911249\n",
       "Name: revenue, dtype: int64"
      ]
     },
     "execution_count": 28,
     "metadata": {},
     "output_type": "execute_result"
    }
   ],
   "source": [
    "revenue_by_music = new_df.set_index(['Music'])['revenue'].sum(level=[0]).sort_values()\n",
    "\n",
    "revenue_by_music"
   ]
  },
  {
   "cell_type": "code",
   "execution_count": 29,
   "metadata": {},
   "outputs": [
    {
     "data": {
      "text/plain": [
       "TV Movie\n",
       "1        42000000\n",
       "0    432678192875\n",
       "Name: revenue, dtype: int64"
      ]
     },
     "execution_count": 29,
     "metadata": {},
     "output_type": "execute_result"
    }
   ],
   "source": [
    "revenue_by_tm = new_df.set_index(['TV Movie'])['revenue'].sum(level=[0]).sort_values()\n",
    "\n",
    "revenue_by_tm"
   ]
  },
  {
   "cell_type": "code",
   "execution_count": 30,
   "metadata": {},
   "outputs": [
    {
     "data": {
      "text/plain": [
       "Foreign\n",
       "1       285846449\n",
       "0    432434346426\n",
       "Name: revenue, dtype: int64"
      ]
     },
     "execution_count": 30,
     "metadata": {},
     "output_type": "execute_result"
    }
   ],
   "source": [
    "revenue_by_foreign = new_df.set_index(['Foreign'])['revenue'].sum(level=[0]).sort_values()\n",
    "\n",
    "revenue_by_foreign"
   ]
  },
  {
   "cell_type": "code",
   "execution_count": 31,
   "metadata": {},
   "outputs": [
    {
     "data": {
      "text/plain": [
       "Documentary\n",
       "1      1061375637\n",
       "0    431658817238\n",
       "Name: revenue, dtype: int64"
      ]
     },
     "execution_count": 31,
     "metadata": {},
     "output_type": "execute_result"
    }
   ],
   "source": [
    "revenue_by_documentary = new_df.set_index(['Documentary'])['revenue'].sum(level=[0]).sort_values()\n",
    "\n",
    "revenue_by_documentary"
   ]
  },
  {
   "cell_type": "code",
   "execution_count": 32,
   "metadata": {},
   "outputs": [
    {
     "data": {
      "text/plain": [
       "Drama\n",
       "1    139146504255\n",
       "0    293573688620\n",
       "Name: revenue, dtype: int64"
      ]
     },
     "execution_count": 32,
     "metadata": {},
     "output_type": "execute_result"
    }
   ],
   "source": [
    "revenue_by_drama = new_df.set_index(['Drama'])['revenue'].sum(level=[0]).sort_values()\n",
    "\n",
    "revenue_by_drama"
   ]
  },
  {
   "cell_type": "code",
   "execution_count": 33,
   "metadata": {},
   "outputs": [
    {
     "data": {
      "text/plain": [
       "Horror\n",
       "1     27538937718\n",
       "0    405181255157\n",
       "Name: revenue, dtype: int64"
      ]
     },
     "execution_count": 33,
     "metadata": {},
     "output_type": "execute_result"
    }
   ],
   "source": [
    "revenue_by_horror = new_df.set_index(['Horror'])['revenue'].sum(level=[0]).sort_values()\n",
    "\n",
    "revenue_by_horror"
   ]
  },
  {
   "cell_type": "markdown",
   "metadata": {},
   "source": [
    "#### Summary: \n",
    "There is no correlation between revenue and any single genre of movie.\n",
    "\n",
    "---"
   ]
  },
  {
   "cell_type": "code",
   "execution_count": 34,
   "metadata": {},
   "outputs": [
    {
     "data": {
      "text/plain": [
       "genres\n",
       "Comedy                                    20323889661\n",
       "Drama                                     15107533347\n",
       "Comedy|Romance                            11545724341\n",
       "Adventure|Fantasy|Action                   7597483556\n",
       "Comedy|Drama|Romance                       7251175696\n",
       "                                             ...     \n",
       "Adventure|Drama|Action|Thriller|Crime               0\n",
       "Action|Crime|Drama|Western                          0\n",
       "Action|Adventure|Crime|Drama|Family                 0\n",
       "Comedy|Family|Music|Romance                         0\n",
       "Mystery|Science Fiction|Thriller|Drama              0\n",
       "Name: revenue, Length: 2038, dtype: int64"
      ]
     },
     "execution_count": 34,
     "metadata": {},
     "output_type": "execute_result"
    }
   ],
   "source": [
    "df.set_index(['genres'])['revenue'].sum(level=[0]).sort_values(ascending=False)"
   ]
  },
  {
   "cell_type": "code",
   "execution_count": 35,
   "metadata": {},
   "outputs": [
    {
     "data": {
      "text/plain": [
       "cast\n",
       "Elijah Wood|Ian McKellen|Viggo Mortensen|Liv Tyler|Orlando Bloom                    2916544743\n",
       "Sam Worthington|Zoe Saldana|Sigourney Weaver|Stephen Lang|Michelle Rodriguez        2781505847\n",
       "Jennifer Lawrence|Josh Hutcherson|Liam Hemsworth|Woody Harrelson|Elizabeth Banks    2189157571\n",
       "Harrison Ford|Mark Hamill|Carrie Fisher|Adam Driver|Daisy Ridley                    2068178225\n",
       "Martin Freeman|Ian McKellen|Richard Armitage|Ken Stott|Graham McTavish              1913519788\n",
       "                                                                                       ...    \n",
       "Tom Hiddleston|Tilda Swinton|Mia Wasikowska|John Hurt|Anton Yelchin                          0\n",
       "Paul Newman|Jackie Gleason|Piper Laurie|George C. Scott|Myron McCormick                      0\n",
       "Deborah Kerr|Peter Wyngarde|Megs Jenkins|Michael Redgrave|Martin Stephens                    0\n",
       "Charlton Heston|Sophia Loren|Raf Vallone|GeneviÃ¨ve Page|John Fraser                         0\n",
       "Harold P. Warren|Tom Neyman|John Reynolds|Diane Mahree|Stephanie Nielson                     0\n",
       "Name: revenue, Length: 10711, dtype: int64"
      ]
     },
     "execution_count": 35,
     "metadata": {},
     "output_type": "execute_result"
    }
   ],
   "source": [
    "df.set_index(['cast'])['revenue'].sum(level=[0]).sort_values(ascending=False)"
   ]
  },
  {
   "cell_type": "code",
   "execution_count": 36,
   "metadata": {},
   "outputs": [
    {
     "data": {
      "text/plain": [
       "tagline\n",
       "                                                  10361555303\n",
       "Enter the World of Pandora.                        2781505847\n",
       "Every generation has a story.                      2068178225\n",
       "Nothing on Earth could come between them.          1845034188\n",
       "Some assembly required.                            1519557910\n",
       "                                                     ...     \n",
       "The Story Of An American Band                               0\n",
       "Existing Soon.                                              0\n",
       "What are you willing to believe?                            0\n",
       "I just wanted somebody to believe me.                       0\n",
       "You don't need superpowers to be a super hero.              0\n",
       "Name: revenue, Length: 7995, dtype: int64"
      ]
     },
     "execution_count": 36,
     "metadata": {},
     "output_type": "execute_result"
    }
   ],
   "source": [
    "df.set_index(['tagline'])['revenue'].sum(level=[0]).sort_values(ascending=False)"
   ]
  },
  {
   "cell_type": "code",
   "execution_count": 37,
   "metadata": {},
   "outputs": [
    {
     "data": {
      "text/plain": [
       "director\n",
       "Steven Spielberg                   9018563772\n",
       "Peter Jackson                      6523244659\n",
       "James Cameron                      5841894863\n",
       "Michael Bay                        4917208171\n",
       "Christopher Nolan                  4167548502\n",
       "                                      ...    \n",
       "Darrell Rooney|Jeannine Roussel             0\n",
       "Owen Hurley                                 0\n",
       "Gus Holwerda                                0\n",
       "Pete Docter|Roger Gould                     0\n",
       "Harold P. Warren                            0\n",
       "Name: revenue, Length: 5065, dtype: int64"
      ]
     },
     "execution_count": 37,
     "metadata": {},
     "output_type": "execute_result"
    }
   ],
   "source": [
    "df.set_index(['director'])['revenue'].sum(level=[0]).sort_values(ascending=False)"
   ]
  },
  {
   "cell_type": "code",
   "execution_count": 38,
   "metadata": {},
   "outputs": [
    {
     "data": {
      "text/plain": [
       "Text(0, 0.5, 'Revenue')"
      ]
     },
     "execution_count": 38,
     "metadata": {},
     "output_type": "execute_result"
    },
    {
     "data": {
      "image/png": "[encoded data removed]",
      "text/plain": [
       "<Figure size 864x864 with 1 Axes>"
      ]
     },
     "metadata": {
      "needs_background": "light"
     },
     "output_type": "display_data"
    }
   ],
   "source": [
    "revenue_by_runtime = df.set_index(['runtime'])['revenue'].sum(level=[0]).sort_index()\n",
    "\n",
    "fig, ax = plt.subplots(1, figsize=(12, 12))\n",
    "\n",
    "ax.scatter(revenue_by_runtime.index, revenue_by_runtime)\n",
    "\n",
    "ax.set_title('Revenue by Runtime')\n",
    "ax.set_xlabel('Runtime')\n",
    "ax.set_ylabel('Revenue')"
   ]
  },
  {
   "cell_type": "markdown",
   "metadata": {},
   "source": [
    "#### Summary: \n",
    "- There is no correlation between revenue and runtime\n",
    "- Highest revenue when runtime is about 400 / 3\n",
    "\n",
    "---"
   ]
  },
  {
   "cell_type": "code",
   "execution_count": null,
   "metadata": {},
   "outputs": [],
   "source": [
    "revenue_by_popularity = df.set_index(['popularity'])['revenue'].sum(level=[0]).sort_index()\n",
    "\n",
    "plt.bar(revenue_by_popularity.index, revenue_by_popularity)\n",
    "\n",
    "plt.title('Revenue by Popularity')\n",
    "plt.xlabel('Popularity')\n",
    "plt.ylabel('Revenue')"
   ]
  },
  {
   "cell_type": "markdown",
   "metadata": {},
   "source": [
    "#### Summary: \n",
    "- There is no correlation between revenue and popularity\n",
    "- Highest revenue when popularity is about 9\n",
    "\n",
    "---"
   ]
  },
  {
   "cell_type": "code",
   "execution_count": null,
   "metadata": {},
   "outputs": [],
   "source": [
    "revenue_by_vote_count = df.set_index(['vote_count'])['revenue'].sum(level=[0]).sort_index()\n",
    "\n",
    "ax = revenue_by_vote_count.plot.line(x='vote_count', y='revenue')\n",
    "\n",
    "ax.set_title('Revenue by Vote Count')\n",
    "ax.set_xlabel('Vote Count')\n",
    "ax.set_ylabel('Revenue')"
   ]
  },
  {
   "cell_type": "markdown",
   "metadata": {},
   "source": [
    "#### Summary: \n",
    "- There is no correlation between revenue and vote count\n",
    "- Highest revenue when vote count is about 8500\n",
    "\n",
    "---"
   ]
  },
  {
   "cell_type": "markdown",
   "metadata": {},
   "source": [
    "### **Answer:**"
   ]
  },
  {
   "cell_type": "markdown",
   "metadata": {},
   "source": [
    "* Increases as time goes by\n",
    "* Vote count: ~8500\n",
    "* Popularity: ~9\n",
    "* Runtime: ~160\n",
    "* Director(Top 3): Steven Spielberg, Peter Jackson, James Cameron\n",
    "* Genres(Top 3): Comedy, Drama, Comedy & Romance     "
   ]
  },
  {
   "cell_type": "markdown",
   "metadata": {},
   "source": [
    "---\n",
    "## Question 2: Which genres are most popular from year to year? "
   ]
  },
  {
   "cell_type": "code",
   "execution_count": null,
   "metadata": {},
   "outputs": [],
   "source": [
    "adventure_popularity_df = new_df[['Adventure', 'release_year', 'popularity']]\n",
    "\n",
    "adventure_popularity_df = adventure_popularity_df[adventure_popularity_df['Adventure'] == 1]\n",
    "\n",
    "adventure_popularity_df = adventure_popularity_df[['release_year', 'popularity']]\n",
    "\n",
    "adventure_popularity_df = adventure_popularity_df.set_index(['release_year'])\n",
    "\n",
    "adventure_by_release_year = adventure_popularity_df.sum(level=[0]).sort_index()"
   ]
  },
  {
   "cell_type": "code",
   "execution_count": null,
   "metadata": {},
   "outputs": [],
   "source": [
    "action_popularity_df = new_df[['Action', 'release_year', 'popularity']]\n",
    "\n",
    "action_popularity_df = action_popularity_df[action_popularity_df['Action'] == 1]\n",
    "\n",
    "action_popularity_df = action_popularity_df[['release_year', 'popularity']]\n",
    "\n",
    "action_popularity_df = action_popularity_df.set_index(['release_year'])\n",
    "\n",
    "action_by_release_year = action_popularity_df.sum(level=[0]).sort_index()"
   ]
  },
  {
   "cell_type": "code",
   "execution_count": null,
   "metadata": {},
   "outputs": [],
   "source": [
    "fantasy_popularity_df = new_df[['Fantasy', 'release_year', 'popularity']]\n",
    "\n",
    "fantasy_popularity_df = fantasy_popularity_df[fantasy_popularity_df['Fantasy'] == 1]\n",
    "\n",
    "fantasy_popularity_df = fantasy_popularity_df[['release_year', 'popularity']]\n",
    "\n",
    "fantasy_popularity_df = fantasy_popularity_df.set_index(['release_year'])\n",
    "\n",
    "fantasy_by_release_year = fantasy_popularity_df.sum(level=[0]).sort_index()"
   ]
  },
  {
   "cell_type": "code",
   "execution_count": null,
   "metadata": {},
   "outputs": [],
   "source": [
    "family_popularity_df = new_df[['Family', 'release_year', 'popularity']]\n",
    "\n",
    "family_popularity_df = family_popularity_df[family_popularity_df['Family'] == 1]\n",
    "\n",
    "family_popularity_df = family_popularity_df[['release_year', 'popularity']]\n",
    "\n",
    "family_popularity_df = family_popularity_df.set_index(['release_year'])\n",
    "\n",
    "family_by_release_year = family_popularity_df.sum(level=[0]).sort_index()"
   ]
  },
  {
   "cell_type": "code",
   "execution_count": null,
   "metadata": {},
   "outputs": [],
   "source": [
    "sf_popularity_df = new_df[['Science Fiction', 'release_year', 'popularity']]\n",
    "\n",
    "sf_popularity_df = sf_popularity_df[sf_popularity_df['Science Fiction'] == 1]\n",
    "\n",
    "sf_popularity_df = sf_popularity_df[['release_year', 'popularity']]\n",
    "\n",
    "sf_popularity_df = sf_popularity_df.set_index(['release_year'])\n",
    "\n",
    "sf_by_release_year = sf_popularity_df.sum(level=[0]).sort_index()"
   ]
  },
  {
   "cell_type": "code",
   "execution_count": null,
   "metadata": {},
   "outputs": [],
   "source": [
    "animation_popularity_df = new_df[['Animation', 'release_year', 'popularity']]\n",
    "\n",
    "animation_popularity_df = animation_popularity_df[animation_popularity_df['Animation'] == 1]\n",
    "\n",
    "animation_popularity_df = animation_popularity_df[['release_year', 'popularity']]\n",
    "\n",
    "animation_popularity_df = animation_popularity_df.set_index(['release_year'])\n",
    "\n",
    "animation_by_release_year = animation_popularity_df.sum(level=[0]).sort_index()"
   ]
  },
  {
   "cell_type": "code",
   "execution_count": null,
   "metadata": {},
   "outputs": [],
   "source": [
    "war_popularity_df = new_df[['War', 'release_year', 'popularity']]\n",
    "\n",
    "war_popularity_df = war_popularity_df[war_popularity_df['War'] == 1]\n",
    "\n",
    "war_popularity_df = war_popularity_df[['release_year', 'popularity']]\n",
    "\n",
    "war_popularity_df = war_popularity_df.set_index(['release_year'])\n",
    "\n",
    "war_by_release_year = war_popularity_df.sum(level=[0]).sort_index()"
   ]
  },
  {
   "cell_type": "code",
   "execution_count": null,
   "metadata": {},
   "outputs": [],
   "source": [
    "thriller_popularity_df = new_df[['Thriller', 'release_year', 'popularity']]\n",
    "\n",
    "thriller_popularity_df = thriller_popularity_df[thriller_popularity_df['Thriller'] == 1]\n",
    "\n",
    "thriller_popularity_df = thriller_popularity_df[['release_year', 'popularity']]\n",
    "\n",
    "thriller_popularity_df = thriller_popularity_df.set_index(['release_year'])\n",
    "\n",
    "thriller_by_release_year = thriller_popularity_df.sum(level=[0]).sort_index()"
   ]
  },
  {
   "cell_type": "code",
   "execution_count": null,
   "metadata": {},
   "outputs": [],
   "source": [
    "crime_popularity_df = new_df[['Crime', 'release_year', 'popularity']]\n",
    "\n",
    "crime_popularity_df = crime_popularity_df[crime_popularity_df['Crime'] == 1]\n",
    "\n",
    "crime_popularity_df = crime_popularity_df[['release_year', 'popularity']]\n",
    "\n",
    "crime_popularity_df = crime_popularity_df.set_index(['release_year'])\n",
    "\n",
    "crime_by_release_year = crime_popularity_df.sum(level=[0]).sort_index()"
   ]
  },
  {
   "cell_type": "code",
   "execution_count": null,
   "metadata": {},
   "outputs": [],
   "source": [
    "mystery_popularity_df = new_df[['Mystery', 'release_year', 'popularity']]\n",
    "\n",
    "mystery_popularity_df = mystery_popularity_df[mystery_popularity_df['Mystery'] == 1]\n",
    "\n",
    "mystery_popularity_df = mystery_popularity_df[['release_year', 'popularity']]\n",
    "\n",
    "mystery_popularity_df = mystery_popularity_df.set_index(['release_year'])\n",
    "\n",
    "mystery_by_release_year = mystery_popularity_df.sum(level=[0]).sort_index()"
   ]
  },
  {
   "cell_type": "code",
   "execution_count": null,
   "metadata": {},
   "outputs": [],
   "source": [
    "history_popularity_df = new_df[['History', 'release_year', 'popularity']]\n",
    "\n",
    "history_popularity_df = history_popularity_df[history_popularity_df['History'] == 1]\n",
    "\n",
    "history_popularity_df = history_popularity_df[['release_year', 'popularity']]\n",
    "\n",
    "history_popularity_df = history_popularity_df.set_index(['release_year'])\n",
    "\n",
    "history_by_release_year = history_popularity_df.sum(level=[0]).sort_index()"
   ]
  },
  {
   "cell_type": "code",
   "execution_count": null,
   "metadata": {},
   "outputs": [],
   "source": [
    "western_popularity_df = new_df[['Western', 'release_year', 'popularity']]\n",
    "\n",
    "western_popularity_df = western_popularity_df[western_popularity_df['Western'] == 1]\n",
    "\n",
    "western_popularity_df = western_popularity_df[['release_year', 'popularity']]\n",
    "\n",
    "western_popularity_df = western_popularity_df.set_index(['release_year'])\n",
    "\n",
    "western_by_release_year = western_popularity_df.sum(level=[0]).sort_index()"
   ]
  },
  {
   "cell_type": "code",
   "execution_count": null,
   "metadata": {},
   "outputs": [],
   "source": [
    "comedy_popularity_df = new_df[['Comedy', 'release_year', 'popularity']]\n",
    "\n",
    "comedy_popularity_df = comedy_popularity_df[comedy_popularity_df['Comedy'] == 1]\n",
    "\n",
    "comedy_popularity_df = comedy_popularity_df[['release_year', 'popularity']]\n",
    "\n",
    "comedy_popularity_df = comedy_popularity_df.set_index(['release_year'])\n",
    "\n",
    "comedy_by_release_year = comedy_popularity_df.sum(level=[0]).sort_index()"
   ]
  },
  {
   "cell_type": "code",
   "execution_count": null,
   "metadata": {},
   "outputs": [],
   "source": [
    "romance_popularity_df = new_df[['Romance', 'release_year', 'popularity']]\n",
    "\n",
    "romance_popularity_df = romance_popularity_df[romance_popularity_df['Romance'] == 1]\n",
    "\n",
    "romance_popularity_df = romance_popularity_df[['release_year', 'popularity']]\n",
    "\n",
    "romance_popularity_df = romance_popularity_df.set_index(['release_year'])\n",
    "\n",
    "romance_by_release_year = romance_popularity_df.sum(level=[0]).sort_index()"
   ]
  },
  {
   "cell_type": "code",
   "execution_count": null,
   "metadata": {},
   "outputs": [],
   "source": [
    "music_popularity_df = new_df[['Music', 'release_year', 'popularity']]\n",
    "\n",
    "music_popularity_df = music_popularity_df[music_popularity_df['Music'] == 1]\n",
    "\n",
    "music_popularity_df = music_popularity_df[['release_year', 'popularity']]\n",
    "\n",
    "music_popularity_df = music_popularity_df.set_index(['release_year'])\n",
    "\n",
    "music_by_release_year = music_popularity_df.sum(level=[0]).sort_index()"
   ]
  },
  {
   "cell_type": "code",
   "execution_count": null,
   "metadata": {},
   "outputs": [],
   "source": [
    "tm_popularity_df = new_df[['TV Movie', 'release_year', 'popularity']]\n",
    "\n",
    "tm_popularity_df = tm_popularity_df[tm_popularity_df['TV Movie'] == 1]\n",
    "\n",
    "tm_popularity_df = tm_popularity_df[['release_year', 'popularity']]\n",
    "\n",
    "tm_popularity_df = tm_popularity_df.set_index(['release_year'])\n",
    "\n",
    "tm_by_release_year = tm_popularity_df.sum(level=[0]).sort_index()"
   ]
  },
  {
   "cell_type": "code",
   "execution_count": null,
   "metadata": {},
   "outputs": [],
   "source": [
    "foreign_popularity_df = new_df[['Foreign', 'release_year', 'popularity']]\n",
    "\n",
    "foreign_popularity_df = foreign_popularity_df[foreign_popularity_df['Foreign'] == 1]\n",
    "\n",
    "foreign_popularity_df = foreign_popularity_df[['release_year', 'popularity']]\n",
    "\n",
    "foreign_popularity_df = foreign_popularity_df.set_index(['release_year'])\n",
    "\n",
    "foreign_by_release_year = foreign_popularity_df.sum(level=[0]).sort_index()"
   ]
  },
  {
   "cell_type": "code",
   "execution_count": null,
   "metadata": {},
   "outputs": [],
   "source": [
    "documentary_popularity_df = new_df[['Documentary', 'release_year', 'popularity']]\n",
    "\n",
    "documentary_popularity_df = documentary_popularity_df[documentary_popularity_df['Documentary'] == 1]\n",
    "\n",
    "documentary_popularity_df = documentary_popularity_df[['release_year', 'popularity']]\n",
    "\n",
    "documentary_popularity_df = documentary_popularity_df.set_index(['release_year'])\n",
    "\n",
    "documentary_by_release_year = documentary_popularity_df.sum(level=[0]).sort_index()"
   ]
  },
  {
   "cell_type": "code",
   "execution_count": null,
   "metadata": {},
   "outputs": [],
   "source": [
    "drama_popularity_df = new_df[['Drama', 'release_year', 'popularity']]\n",
    "\n",
    "drama_popularity_df = drama_popularity_df[drama_popularity_df['Drama'] == 1]\n",
    "\n",
    "drama_popularity_df = drama_popularity_df[['release_year', 'popularity']]\n",
    "\n",
    "drama_popularity_df = drama_popularity_df.set_index(['release_year'])\n",
    "\n",
    "drama_by_release_year = drama_popularity_df.sum(level=[0]).sort_index()"
   ]
  },
  {
   "cell_type": "code",
   "execution_count": null,
   "metadata": {},
   "outputs": [],
   "source": [
    "horror_popularity_df = new_df[['Horror', 'release_year', 'popularity']]\n",
    "\n",
    "horror_popularity_df = horror_popularity_df[horror_popularity_df['Horror'] == 1]\n",
    "\n",
    "horror_popularity_df = horror_popularity_df[['release_year', 'popularity']]\n",
    "\n",
    "horror_popularity_df = horror_popularity_df.set_index(['release_year'])\n",
    "\n",
    "horror_by_release_year = horror_popularity_df.sum(level=[0]).sort_index()"
   ]
  },
  {
   "cell_type": "code",
   "execution_count": null,
   "metadata": {},
   "outputs": [],
   "source": [
    "data_arr = [\n",
    "    sf_by_release_year, \n",
    "    family_by_release_year, \n",
    "    fantasy_by_release_year, \n",
    "    action_by_release_year, \n",
    "    adventure_by_release_year]\n",
    "\n",
    "label_arr = ['Science Fiction', 'Family', 'Fantasy', 'Action', 'Adventure']\n",
    "\n",
    "helper.draw_popularity_graph(data_arr, label_arr)"
   ]
  },
  {
   "cell_type": "markdown",
   "metadata": {},
   "source": [
    "#### Summary: \n",
    "* Over time, there are some fluctuations in popularity for Action, Adventure, Science Fiction. \n",
    "However, overall they rise in popularity.\n",
    "* Compared to Action, Adventure, Science Fiction, there is no much rise in popularity for Family and Fantasy.\n",
    "\n",
    "---"
   ]
  },
  {
   "cell_type": "code",
   "execution_count": null,
   "metadata": {},
   "outputs": [],
   "source": [
    "data_arr = [\n",
    "    mystery_by_release_year, \n",
    "    crime_by_release_year, \n",
    "    thriller_by_release_year, \n",
    "    war_by_release_year, \n",
    "    animation_by_release_year]\n",
    "\n",
    "label_arr = ['Mystery', 'Crime', 'Thriller', 'War', 'Animation']\n",
    "\n",
    "helper.draw_popularity_graph(data_arr, label_arr)"
   ]
  },
  {
   "cell_type": "markdown",
   "metadata": {},
   "source": [
    "#### Summary: \n",
    "* Over time, there are some fluctuations in popularity for Comedy, Crime, Mystery and Animation. \n",
    "However, overall they rise in popularity.\n",
    "* Compared to others, War seems not popular over time even though it rose in popularity in around 2013.\n",
    "\n",
    "---"
   ]
  },
  {
   "cell_type": "code",
   "execution_count": null,
   "metadata": {},
   "outputs": [],
   "source": [
    "data_arr = [\n",
    "    history_by_release_year, \n",
    "    western_by_release_year, \n",
    "    comedy_by_release_year, \n",
    "    romance_by_release_year, \n",
    "    music_by_release_year]\n",
    "\n",
    "label_arr = ['History', 'Western', 'Comedy', 'Romance', 'Music']\n",
    "\n",
    "helper.draw_popularity_graph(data_arr, label_arr)"
   ]
  },
  {
   "cell_type": "markdown",
   "metadata": {},
   "source": [
    "#### Summary: \n",
    "* Over time, there are some fluctuations in popularity for Comedy and Romance. \n",
    "However, overall they rise in popularity.\n",
    "* Compared to Comedy and Romance, History and Western as well as Music are not popular. \n",
    "\n",
    "---"
   ]
  },
  {
   "cell_type": "code",
   "execution_count": null,
   "metadata": {},
   "outputs": [],
   "source": [
    "data_arr = [\n",
    "    tm_by_release_year, \n",
    "    foreign_by_release_year, \n",
    "    documentary_by_release_year, \n",
    "    drama_by_release_year, \n",
    "    horror_by_release_year]\n",
    "\n",
    "label_arr = ['TV Movie', 'Foreign', 'Documentary', 'Drama', 'Horror']\n",
    "\n",
    "helper.draw_popularity_graph(data_arr, label_arr)"
   ]
  },
  {
   "cell_type": "markdown",
   "metadata": {},
   "source": [
    "#### Summary: \n",
    "* Over time, Drama and Horror increase in popularity\n",
    "* It seems there is rise in popularity for TV Movie and Documentary. However, there is no much difference compared to Drama and Horror\n",
    "* Over time, Foreign seems never popular\n",
    "\n",
    "---"
   ]
  },
  {
   "cell_type": "markdown",
   "metadata": {},
   "source": [
    "### **Answer:**"
   ]
  },
  {
   "cell_type": "markdown",
   "metadata": {},
   "source": [
    "* Action\n",
    "* Adventure\n",
    "* Science Fiction\n",
    "* Thriller\n",
    "* Comedy\n",
    "\n",
    "Some genres are omitted because one of the following reasons:\n",
    "- over time, there is no much rise in popularity\n",
    "- drop in popularity after 2010"
   ]
  },
  {
   "cell_type": "code",
   "execution_count": null,
   "metadata": {},
   "outputs": [],
   "source": []
  }
 ],
 "metadata": {
  "kernelspec": {
   "display_name": "Python 3",
   "language": "python",
   "name": "python3"
  },
  "language_info": {
   "codemirror_mode": {
    "name": "ipython",
    "version": 3
   },
   "file_extension": ".py",
   "mimetype": "text/x-python",
   "name": "python",
   "nbconvert_exporter": "python",
   "pygments_lexer": "ipython3",
   "version": "3.8.3"
  }
 },
 "nbformat": 4,
 "nbformat_minor": 4
}
